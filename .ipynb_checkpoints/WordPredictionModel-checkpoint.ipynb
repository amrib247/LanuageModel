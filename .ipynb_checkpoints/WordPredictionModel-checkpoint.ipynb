{
 "cells": [
  {
   "cell_type": "code",
   "execution_count": 1,
   "id": "55c2ae54-7288-4247-b069-4cf4ad194f9e",
   "metadata": {},
   "outputs": [],
   "source": [
    "# Imports + setup\n",
    "import torch\n",
    "import torch.nn.functional as F\n",
    "\n",
    "words = open('names.txt', 'r').read().splitlines() # Read in Data\n",
    "chars = sorted(list(set(''.join(words)))) # Build vocabulary\n",
    "stoi = {s:i+1 for i, s in enumerate(chars)}\n",
    "stoi['.'] = 0\n",
    "itos = {i: s for s, i in stoi.items()}"
   ]
  },
  {
   "cell_type": "code",
   "execution_count": 2,
   "id": "06a86880-f365-42ea-8a7f-7d33537a0e8c",
   "metadata": {},
   "outputs": [],
   "source": [
    "# Building the dataset (inputs and outputs)\n",
    "\n",
    "context_size = 3 # Number of characters to use to predict the next character\n",
    "X, Y = [], []\n",
    "\n",
    "for w in words:\n",
    "\n",
    "    #print(w)\n",
    "    context = [0] * context_size\n",
    "    for ch in w + '.':\n",
    "        ix = stoi[ch]\n",
    "        X.append(context)\n",
    "        Y.append(ix)\n",
    "        #print(''.join(itos[i] for i in context), '--->', itos[ix])\n",
    "        context = context[1:] + [ix]\n",
    "\n",
    "X = torch.tensor(X) # Inputs/context\n",
    "Y = torch.tensor(Y) # Outputs"
   ]
  },
  {
   "cell_type": "code",
   "execution_count": 27,
   "id": "dc4ee523-104c-4df8-ad32-ce0d74b3698d",
   "metadata": {},
   "outputs": [],
   "source": [
    "C = torch.randn((27, 2)) # Lookup table to embed input (27 characters, each stored in 2 dimensions)\n",
    "emb = C[X] # for each context in X, we embed all the characters of the context\n",
    "\n",
    "W1 = torch.randn((6, 100)) # Weights for next layer of MLP\n",
    "b1 = torch.randn(100) # Biasses"
   ]
  },
  {
   "cell_type": "code",
   "execution_count": 28,
   "id": "dc44f9f9-74cd-41cd-b5e6-60e1704eb0a8",
   "metadata": {},
   "outputs": [],
   "source": [
    "h = torch.tanh(emb.view(emb.shape[0], 6) @ W1 + b1) # Calculations for first layer. Flatten out emb to have n X 6 dimension, 6 coming from \n",
    "# the 2 dimesions of the 3 previous characters. Result is a n X 100 matrix, n outputs for each of the 100 nuerons in the layer. N is the \n",
    "#number of original inputs, each neuron calculates for each input"
   ]
  },
  {
   "cell_type": "code",
   "execution_count": 29,
   "id": "7326b4e4-7232-488c-9d95-e426754aece7",
   "metadata": {},
   "outputs": [],
   "source": [
    "W2 = torch.randn((100, 27)) # 100 weights for each of the 27 neurons in the next layer (27 neurons for 27 different characters)\n",
    "b2 = torch.randn(27)"
   ]
  },
  {
   "cell_type": "code",
   "execution_count": 30,
   "id": "fd3a2f17-1225-4296-92c6-1ce0a911abad",
   "metadata": {},
   "outputs": [],
   "source": [
    "logits = h @ W2 + b2 # Final outputs (n x 27) Probability distrobution calculated for each of the inputs"
   ]
  },
  {
   "cell_type": "code",
   "execution_count": 31,
   "id": "a30acf33-0e01-424c-8fdb-8536023a6415",
   "metadata": {},
   "outputs": [
    {
     "data": {
      "text/plain": [
       "tensor(20.6314)"
      ]
     },
     "execution_count": 31,
     "metadata": {},
     "output_type": "execute_result"
    }
   ],
   "source": [
    "# Loss Calculation (Negative mean log loss)\n",
    "loss = F.cross_entropy(logits, Y) # Automatically takes exp of logits, normalizes to probabilities for each input, calculates log loss\n",
    "loss"
   ]
  },
  {
   "cell_type": "code",
   "execution_count": 4,
   "id": "1397231b-c6e0-4736-bdb6-4bc54bec02b2",
   "metadata": {},
   "outputs": [],
   "source": [
    "# Better Setup\n",
    "C = torch.randn((27, 2))\n",
    "W1 = torch.randn((6, 100)) # Weights for next layer of MLP\n",
    "b1 = torch.randn(100) # Biasses\n",
    "W2 = torch.randn((100, 27)) # 100 weights for each of the 27 neurons in the next layer (27 neurons for 27 different characters)\n",
    "b2 = torch.randn(27)\n",
    "parameters = [C, W1, b1, W2, b2]\n",
    "for p in parameters:\n",
    "    p.requires_grad = True"
   ]
  },
  {
   "cell_type": "code",
   "execution_count": 5,
   "id": "c0454db0-47ff-46b6-9ced-a608b49036df",
   "metadata": {},
   "outputs": [],
   "source": [
    "# Finding optimal learning rate\n",
    "lre = torch.linspace(-3, 0, 1000) # Generate 1000 exponents between -3 and 0\n",
    "lrs = 10**lre"
   ]
  },
  {
   "cell_type": "code",
   "execution_count": 8,
   "id": "8f214eac-4e7e-4749-9d64-f9bf7ec1620f",
   "metadata": {},
   "outputs": [
    {
     "name": "stdout",
     "output_type": "stream",
     "text": [
      "2.4527599811553955\n"
     ]
    }
   ],
   "source": [
    "# Training Network\n",
    "\n",
    "lri = []\n",
    "lossi = []\n",
    "#graphing lri vs lossi helps find an optimal learning rate\n",
    "\n",
    "for i in range(10000):\n",
    "    \n",
    "    # Randomly select batch to optimize\n",
    "    ix = torch.randint(0, X.shape[0], (32,)) # Select 32 random rows\n",
    "    \n",
    "    # Forward Pass\n",
    "    emb = C[X[ix]]\n",
    "    h = torch.tanh(emb.view(emb.shape[0], 6) @ W1 + b1)\n",
    "    logits = h @ W2 + b2\n",
    "    loss = F.cross_entropy(logits, Y[ix])\n",
    "    #print(loss.item())\n",
    "\n",
    "    # Backward Pass\n",
    "    for p in parameters:\n",
    "        p.grad = None # Zero out all gradients\n",
    "    loss.backward() # Calculate new gradients\n",
    "\n",
    "    #lr = lrs[i]\n",
    "    for p in parameters:\n",
    "        p.data += -0.1 * p.grad\n",
    "\n",
    "    #lri.append(lr)\n",
    "    #lossi.append(loss.item())\n",
    "        \n",
    "emb = C[X]\n",
    "h = torch.tanh(emb.view(emb.shape[0], 6) @ W1 + b1)\n",
    "logits = h @ W2 + b2\n",
    "loss = F.cross_entropy(logits, Y)\n",
    "print(loss.item())"
   ]
  },
  {
   "cell_type": "code",
   "execution_count": null,
   "id": "154a7648-095b-47e9-8dd2-6e9f9e97d94b",
   "metadata": {},
   "outputs": [],
   "source": [
    "#Traing split 80%\n",
    "#What we did above, training for better parameters\n",
    "\n",
    "#dev/validation split 10%\n",
    "#Optimize hyperparameters(size of layers, inputs, etc)\n",
    "\n",
    "#Test split 10%\n",
    "#Evaluate final model performance after optimizations\n",
    "\n",
    "#What is the point: Avoid overtraining where model memorizes outputs"
   ]
  },
  {
   "cell_type": "code",
   "execution_count": 9,
   "id": "05eb00d4-4b70-436b-b0d6-b72506551282",
   "metadata": {},
   "outputs": [],
   "source": [
    "#Splitting model into 3 splits\n",
    "def build_dataset(words):\n",
    "    context_size = 3 # Number of characters to use to predict the next character\n",
    "    X, Y = [], []\n",
    "    \n",
    "    for w in words:\n",
    "        #print(w)\n",
    "        context = [0] * context_size\n",
    "        for ch in w + '.':\n",
    "            ix = stoi[ch]\n",
    "            X.append(context)\n",
    "            Y.append(ix)\n",
    "            #print(''.join(itos[i] for i in context), '--->', itos[ix])\n",
    "            context = context[1:] + [ix]\n",
    "        \n",
    "    X = torch.tensor(X) # Inputs/context\n",
    "    Y = torch.tensor(Y)\n",
    "\n",
    "    return X, Y\n",
    "\n",
    "import random\n",
    "random.seed(42)\n",
    "random.shuffle(words)\n",
    "\n",
    "n1 = int(0.8 * len(words))\n",
    "n2 = int(0.9 * len(words))\n",
    "\n",
    "Xtr, Ytr = build_dataset(words[:n1])\n",
    "Xdev, Ydev = build_dataset(words[n1:n2])\n",
    "Xtest, Ytest = build_dataset(words[n2:])"
   ]
  },
  {
   "cell_type": "code",
   "execution_count": 10,
   "id": "bd10f10b-bab4-440b-b1c1-49a42e15cc64",
   "metadata": {},
   "outputs": [],
   "source": [
    "# Resetup\n",
    "C = torch.randn((27, 2))\n",
    "W1 = torch.randn((6, 100)) # Weights for next layer of MLP\n",
    "b1 = torch.randn(100) # Biasses\n",
    "W2 = torch.randn((100, 27)) # 100 weights for each of the 27 neurons in the next layer (27 neurons for 27 different characters)\n",
    "b2 = torch.randn(27)\n",
    "parameters = [C, W1, b1, W2, b2]\n",
    "for p in parameters:\n",
    "    p.requires_grad = True"
   ]
  },
  {
   "cell_type": "code",
   "execution_count": 14,
   "id": "1a019af2-ce2b-4daa-8271-a1810b2a4ad6",
   "metadata": {},
   "outputs": [
    {
     "name": "stdout",
     "output_type": "stream",
     "text": [
      "2.3674027919769287\n"
     ]
    }
   ],
   "source": [
    "# Training Network Using only training set\n",
    "\n",
    "lri = []\n",
    "lossi = []\n",
    "#graphing lri vs lossi helps find an optimal learning rate\n",
    "\n",
    "for i in range(10000):\n",
    "    \n",
    "    # Randomly select batch to optimize\n",
    "    ix = torch.randint(0, Xtr.shape[0], (32,)) # Select 32 random rows\n",
    "    \n",
    "    # Forward Pass\n",
    "    emb = C[Xtr[ix]]\n",
    "    h = torch.tanh(emb.view(emb.shape[0], 6) @ W1 + b1)\n",
    "    logits = h @ W2 + b2\n",
    "    loss = F.cross_entropy(logits, Ytr[ix])\n",
    "    #print(loss.item())\n",
    "\n",
    "    # Backward Pass\n",
    "    for p in parameters:\n",
    "        p.grad = None # Zero out all gradients\n",
    "    loss.backward() # Calculate new gradients\n",
    "\n",
    "    #lr = lrs[i]\n",
    "    for p in parameters:\n",
    "        p.data += -0.1 * p.grad\n",
    "\n",
    "    #lri.append(lr)\n",
    "    #lossi.append(loss.item())\n",
    "        \n",
    "emb = C[Xdev]\n",
    "h = torch.tanh(emb.view(emb.shape[0], 6) @ W1 + b1)\n",
    "logits = h @ W2 + b2\n",
    "loss = F.cross_entropy(logits, Ydev)\n",
    "print(loss.item())"
   ]
  },
  {
   "cell_type": "code",
   "execution_count": 26,
   "id": "fee811b5-afc5-474d-a855-b19b01576b0f",
   "metadata": {},
   "outputs": [],
   "source": [
    "#Dev steup to optimize hyperparameters\n",
    "C = torch.randn((27, 10))\n",
    "W1 = torch.randn((30, 200)) # Weights for next layer of MLP\n",
    "b1 = torch.randn(200) # Biasses\n",
    "W2 = torch.randn((200, 27)) # 100 weights for each of the 27 neurons in the next layer (27 neurons for 27 different characters)\n",
    "b2 = torch.randn(27)\n",
    "parameters = [C, W1, b1, W2, b2]\n",
    "for p in parameters:\n",
    "    p.requires_grad = True"
   ]
  },
  {
   "cell_type": "code",
   "execution_count": null,
   "id": "2972e3bc-0513-4b99-bee1-131aaa4db6d6",
   "metadata": {},
   "outputs": [],
   "source": [
    "#Optimizing Hyperparameters:\n",
    "lri = []\n",
    "lossi = []\n",
    "\n",
    "for i in range(50000):\n",
    "    \n",
    "    # Randomly select batch to optimize\n",
    "    ix = torch.randint(0, Xtr.shape[0], (32,)) # Select 32 random rows\n",
    "    \n",
    "    # Forward Pass\n",
    "    emb = C[Xtr[ix]]\n",
    "    h = torch.tanh(emb.view(emb.shape[0], 30) @ W1 + b1)\n",
    "    logits = h @ W2 + b2\n",
    "    loss = F.cross_entropy(logits, Ytr[ix])\n",
    "    #print(loss.item())\n",
    "\n",
    "    # Backward Pass\n",
    "    for p in parameters:\n",
    "        p.grad = None # Zero out all gradients\n",
    "    loss.backward() # Calculate new gradients\n",
    "\n",
    "    #lr = lrs[i]\n",
    "    for p in parameters:\n",
    "        p.data += -0.05 * p.grad\n",
    "\n",
    "    #lri.append(lr)\n",
    "    #lossi.append(loss.item())\n",
    "        \n",
    "emb = C[Xdev]\n",
    "h = torch.tanh(emb.view(emb.shape[0], 30) @ W1 + b1)\n",
    "logits = h @ W2 + b2\n",
    "loss = F.cross_entropy(logits, Ydev)\n",
    "print(loss.item())"
   ]
  },
  {
   "cell_type": "code",
   "execution_count": null,
   "id": "fc1510a1-f061-4a6e-a7b2-bd6efa8e4d67",
   "metadata": {},
   "outputs": [],
   "source": []
  }
 ],
 "metadata": {
  "kernelspec": {
   "display_name": "PyTorch venv",
   "language": "python",
   "name": "pytorch_venv"
  },
  "language_info": {
   "codemirror_mode": {
    "name": "ipython",
    "version": 3
   },
   "file_extension": ".py",
   "mimetype": "text/x-python",
   "name": "python",
   "nbconvert_exporter": "python",
   "pygments_lexer": "ipython3",
   "version": "3.13.7"
  }
 },
 "nbformat": 4,
 "nbformat_minor": 5
}
